{
  "nbformat": 4,
  "nbformat_minor": 0,
  "metadata": {
    "colab": {
      "provenance": []
    },
    "kernelspec": {
      "name": "python3",
      "display_name": "Python 3"
    },
    "language_info": {
      "name": "python"
    },
    "accelerator": "GPU",
    "gpuClass": "standard"
  },
  "cells": [
    {
      "cell_type": "code",
      "source": [
        "!pip install pdfquery --quiet"
      ],
      "metadata": {
        "colab": {
          "base_uri": "https://localhost:8080/"
        },
        "id": "UBEPq8wT7FLG",
        "outputId": "b1a830a3-ff08-4340-b00f-919bc007f3c4"
      },
      "execution_count": 1,
      "outputs": [
        {
          "output_type": "stream",
          "name": "stdout",
          "text": [
            "  Preparing metadata (setup.py) ... \u001b[?25l\u001b[?25hdone\n",
            "\u001b[2K     \u001b[90m━━━━━━━━━━━━━━━━━━━━━━━━━━━━━━━━━━━━━━━━\u001b[0m \u001b[32m5.6/5.6 MB\u001b[0m \u001b[31m58.5 MB/s\u001b[0m eta \u001b[36m0:00:00\u001b[0m\n",
            "\u001b[?25h  Building wheel for pdfquery (setup.py) ... \u001b[?25l\u001b[?25hdone\n"
          ]
        }
      ]
    },
    {
      "cell_type": "code",
      "execution_count": null,
      "metadata": {
        "id": "sCRJ-qA55pEs"
      },
      "outputs": [],
      "source": [
        "# San Jose, what problem should I solve, should I work on to perfect my craftsmanship?\n",
        "# Craftsmanship\n",
        "# we who cut mere stones must always be envisioning cathedrals\n",
        "# stones- Douay Rheims, Clementine Vulgate ; cathedrals - The Igbo Douay Rheims Scripture\n",
        "\n"
      ]
    },
    {
      "cell_type": "code",
      "source": [
        "from google.colab import drive\n",
        "drive.mount('/content/gdrive/', force_remount=True)"
      ],
      "metadata": {
        "colab": {
          "base_uri": "https://localhost:8080/"
        },
        "id": "YXDb9H4K7RJk",
        "outputId": "730c7294-3d8c-4793-b54d-95ad0c36f690"
      },
      "execution_count": 2,
      "outputs": [
        {
          "output_type": "stream",
          "name": "stdout",
          "text": [
            "Mounted at /content/gdrive/\n"
          ]
        }
      ]
    },
    {
      "cell_type": "code",
      "source": [
        "base_path = '/content/gdrive/MyDrive/san_jose'"
      ],
      "metadata": {
        "id": "fYMKR7658WUF"
      },
      "execution_count": 3,
      "outputs": []
    },
    {
      "cell_type": "code",
      "source": [
        "import os\n",
        "import pdfquery\n",
        "import pandas as pd\n",
        "import numpy as np\n",
        "import glob"
      ],
      "metadata": {
        "id": "3NoMqnFY8wi-"
      },
      "execution_count": 4,
      "outputs": []
    },
    {
      "cell_type": "code",
      "source": [
        "!pwd\n",
        "os.chdir(base_path)\n",
        "!pwd"
      ],
      "metadata": {
        "colab": {
          "base_uri": "https://localhost:8080/"
        },
        "id": "LqQyReQH8zQ1",
        "outputId": "06959156-f336-4bf6-9867-f03281905893"
      },
      "execution_count": 5,
      "outputs": [
        {
          "output_type": "stream",
          "name": "stdout",
          "text": [
            "/content\n",
            "/content/gdrive/MyDrive/san_jose\n"
          ]
        }
      ]
    },
    {
      "cell_type": "code",
      "source": [
        "glob.glob('*.pdf')"
      ],
      "metadata": {
        "colab": {
          "base_uri": "https://localhost:8080/"
        },
        "id": "2j11PXHS83xa",
        "outputId": "b02b7a7c-463f-4dcf-8a98-ceed4a50be54"
      },
      "execution_count": 6,
      "outputs": [
        {
          "output_type": "execute_result",
          "data": {
            "text/plain": [
              "['Douay_Rheims_Bible.pdf', 'Clementine_Vulgate.pdf']"
            ]
          },
          "metadata": {},
          "execution_count": 6
        }
      ]
    },
    {
      "cell_type": "code",
      "source": [
        "en_file = 'Douay_Rheims_Bible.pdf'\n",
        "la_file = 'Clementine_Vulgate.pdf'"
      ],
      "metadata": {
        "id": "KhXknXck881M"
      },
      "execution_count": 7,
      "outputs": []
    },
    {
      "cell_type": "code",
      "source": [
        "en_pdf = pdfquery.PDFQuery(en_file)"
      ],
      "metadata": {
        "id": "PEZTz79W9zHG"
      },
      "execution_count": 8,
      "outputs": []
    },
    {
      "cell_type": "code",
      "source": [
        "en_pdf.load()"
      ],
      "metadata": {
        "id": "i5L6jFLD_Oiz"
      },
      "execution_count": null,
      "outputs": []
    },
    {
      "cell_type": "code",
      "source": [
        "en_pdf.tree.write('en_pdf_xml.txt', pretty_print=True)"
      ],
      "metadata": {
        "id": "vunBvLe1_UAu"
      },
      "execution_count": null,
      "outputs": []
    },
    {
      "cell_type": "code",
      "source": [],
      "metadata": {
        "id": "5XeEAqMJAPlR"
      },
      "execution_count": null,
      "outputs": []
    }
  ]
}